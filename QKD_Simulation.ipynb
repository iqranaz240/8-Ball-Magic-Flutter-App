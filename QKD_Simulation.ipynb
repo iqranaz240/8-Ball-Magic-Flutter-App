{
  "nbformat": 4,
  "nbformat_minor": 0,
  "metadata": {
    "colab": {
      "name": "QKD_Simulation.ipynb",
      "provenance": [],
      "collapsed_sections": [],
      "include_colab_link": true
    },
    "kernelspec": {
      "name": "python3",
      "display_name": "Python 3"
    }
  },
  "cells": [
    {
      "cell_type": "markdown",
      "metadata": {
        "id": "view-in-github",
        "colab_type": "text"
      },
      "source": [
        "<a href=\"https://colab.research.google.com/github/iqranaz240/8-Ball-Magic-Flutter-App/blob/master/QKD_Simulation.ipynb\" target=\"_parent\"><img src=\"https://colab.research.google.com/assets/colab-badge.svg\" alt=\"Open In Colab\"/></a>"
      ]
    },
    {
      "cell_type": "code",
      "metadata": {
        "id": "YxV2E2rXzcVs"
      },
      "source": [
        "import math\r\n",
        "from math import e\r\n",
        "import numpy as np\r\n",
        "import matplotlib.pyplot as plt\r\n",
        "from numpy import random"
      ],
      "execution_count": 1,
      "outputs": []
    },
    {
      "cell_type": "code",
      "metadata": {
        "colab": {
          "base_uri": "https://localhost:8080/",
          "height": 265
        },
        "id": "V6cfNFvfziLM",
        "outputId": "1b89f90c-8949-4c28-bb23-c1ba955a848a"
      },
      "source": [
        "s = np.random.poisson(0.1, 100)\r\n",
        "count, bins, ignored = plt.hist(s, 10, density=True)\r\n",
        "plt.show()"
      ],
      "execution_count": 2,
      "outputs": [
        {
          "output_type": "display_data",
          "data": {
            "image/png": "[encoded data removed]",
            "text/plain": [
              "<Figure size 432x288 with 1 Axes>"
            ]
          },
          "metadata": {
            "tags": [],
            "needs_background": "light"
          }
        }
      ]
    },
    {
      "cell_type": "code",
      "metadata": {
        "colab": {
          "base_uri": "https://localhost:8080/"
        },
        "id": "R8bcbzzHzujT",
        "outputId": "ff19e159-d636-4ac7-f5fc-4b57a0c64479"
      },
      "source": [
        "print(s)"
      ],
      "execution_count": 3,
      "outputs": [
        {
          "output_type": "stream",
          "text": [
            "[0 0 0 0 0 0 0 0 0 0 0 0 0 0 0 0 0 0 0 0 0 0 0 0 0 0 1 0 0 0 0 0 0 0 0 0 0\n",
            " 0 0 0 0 0 0 0 0 0 0 1 0 0 0 0 1 0 0 0 0 1 0 0 0 1 0 0 0 0 0 0 1 0 0 0 0 0\n",
            " 0 0 0 1 0 0 1 0 0 0 0 0 0 0 0 0 0 0 0 0 0 0 0 0 0 0]\n"
          ],
          "name": "stdout"
        }
      ]
    },
    {
      "cell_type": "code",
      "metadata": {
        "id": "AxRkyprRzwwj"
      },
      "source": [
        "class Photon:\r\n",
        "\r\n",
        "  def __init__(self, polarization, intensity, energy, frequency):\r\n",
        "    self.intensity = intensity\r\n",
        "    self.energy = energy\r\n",
        "    self.frequency = frequency\r\n",
        "        \r\n",
        "  def polarization(self, theta, phi):\r\n",
        "    self.theta = theta\r\n",
        "    self.phi = phi\r\n",
        "    polarize_photon = np.array([math.cos(theta/2), (e**((0+1j)*phi))*math.sin(theta/2)])\r\n",
        "    return polarize_photon\r\n",
        "\r\n",
        "  def generate_photon(self, iterations):\r\n",
        "    for iteration in range(iterations):\r\n",
        "      if (s[iteration] == 2):\r\n",
        "        return self.polarization(0,0)  #call photon constructor twice\r\n",
        "        iteration+=1\r\n",
        "      elif (s[iteration] == 1):\r\n",
        "        return self.polarization(0,0)  #call photon construstor\r\n",
        "        iteration+=1\r\n",
        "    else:\r\n",
        "        iteration+=1"
      ],
      "execution_count": 4,
      "outputs": []
    },
    {
      "cell_type": "code",
      "metadata": {
        "id": "yuZZFRJ2z0YT",
        "colab": {
          "base_uri": "https://localhost:8080/"
        },
        "outputId": "230a124c-01e8-4b3f-9052-f99b562f980b"
      },
      "source": [
        "p = Photon(1,2,3,4)\r\n",
        "p.generate_photon(100)\r\n"
      ],
      "execution_count": 5,
      "outputs": [
        {
          "output_type": "execute_result",
          "data": {
            "text/plain": [
              "array([1.+0.j, 0.+0.j])"
            ]
          },
          "metadata": {
            "tags": []
          },
          "execution_count": 5
        }
      ]
    },
    {
      "cell_type": "code",
      "metadata": {
        "id": "BAKqHkxV0-_M"
      },
      "source": [
        "class Optical_Fibre:\r\n",
        "  def __init__(self, attenuation_costant, length_of_fiber, Photon ):\r\n",
        "    self.length_of_fiber = length_of_fiber\r\n",
        "    self.attenuation_costant = attenuation_costant\r\n",
        "    self.dispersion_coefficient = dispersion_coefficient\r\n",
        "    self.spectral_width = spectral_width\r\n",
        "\r\n",
        "    def attenuation(self):\r\n",
        "        attenuation_of_fiber = attenuation_costant*length_of_fiber\r\n",
        "        return attenuation_of_fiber\r\n",
        "\r\n",
        "    def transfer_efficiency(self):\r\n",
        "        x = (attenuation_costant*length_of_fiber)/10\r\n",
        "        exponent = -(x)\r\n",
        "        efficiency = np.power(10, exponent)\r\n",
        "        return efficiency\r\n",
        "\r\n",
        "    def intramodal_dispersion(self):\r\n",
        "         chromatic_dispersion = dispersion_coefficient*length_of_fiber*spectral_width\r\n",
        "         return chromatic_dispersion\r\n"
      ],
      "execution_count": 6,
      "outputs": []
    },
    {
      "cell_type": "code",
      "metadata": {
        "id": "a7VQy8kp9wf_"
      },
      "source": [
        "class Alice_Encoding(Photon):\r\n",
        "  def __init__(self, bits):\r\n",
        "    self.bits = bits\r\n",
        "    self.a_bits = None\r\n",
        "    self.a_basis = None\r\n",
        "    self.a_encoded_photons = None\r\n",
        "    self.a_encoded_polarized_photons = None\r\n",
        "\r\n",
        "  def alice_bits_basis_generation(self):\r\n",
        "    x = random.choice([0, 1], size=(1, self.bits))\r\n",
        "    self.a_bits = x[0]\r\n",
        "    y = random.choice(['e', 'f'], size=(1, self.bits))\r\n",
        "    self.a_basis = y[0]\r\n",
        "    return self.a_bits, self.a_basis\r\n",
        "\r\n",
        "  def alice_prepare_photons(self):\r\n",
        "    self.a_encoded_photons = []\r\n",
        "    self.alice_bits_basis_generation()\r\n",
        "    for bit in range(len(self.a_bits)):\r\n",
        "      if self.a_bits[bit] == 0:\r\n",
        "       if self.a_basis[bit] == 'e':\r\n",
        "        self.a_encoded_photons.append('e1')\r\n",
        "        #print('e1')\r\n",
        "        bit+=1\r\n",
        "       else:\r\n",
        "         self.a_encoded_photons.append('f1')\r\n",
        "        #print('f1')\r\n",
        "         bit+=1\r\n",
        "\r\n",
        "      elif self.a_bits[bit] == 1:\r\n",
        "        if self.a_basis[bit] == 'e':\r\n",
        "         self.a_encoded_photons.append('e2')\r\n",
        "         #print('e2')\r\n",
        "         bit+=1\r\n",
        "        else:\r\n",
        "          self.a_encoded_photons.append('f2')\r\n",
        "          #print('f2')\r\n",
        "          bit+=1\r\n",
        "    return self.a_encoded_photons\r\n",
        "\r\n",
        "  def alice_polarize_photons(self):\r\n",
        "    self.a_encoded_polarized_photons = []\r\n",
        "    for bit in range(len(self.a_bits)):\r\n",
        "      if self.a_encoded_photons[bit] == 'e1':\r\n",
        "        pol = self.polarization(0,0)\r\n",
        "        self.a_encoded_polarized_photons.append(pol)\r\n",
        "        bit+=1\r\n",
        "\r\n",
        "      elif self.a_encoded_photons[bit] == 'e2':\r\n",
        "        pol = self.polarization(180,0)\r\n",
        "        self.a_encoded_polarized_photons.append(pol)\r\n",
        "        bit+=1\r\n",
        "\r\n",
        "      elif self.a_encoded_photons[bit] == 'f1':\r\n",
        "        pol = self.polarization(90,0)\r\n",
        "        self.a_encoded_polarized_photons.append(pol)\r\n",
        "        bit+=1    \r\n",
        "\r\n",
        "      elif self.a_encoded_photons[bit] == 'f2':\r\n",
        "        pol = self.polarization(90,180)\r\n",
        "        self.a_encoded_polarized_photons.append(pol)\r\n",
        "        bit+=1\r\n",
        "    \r\n",
        "    return self.a_encoded_polarized_photons\r\n"
      ],
      "execution_count": 7,
      "outputs": []
    },
    {
      "cell_type": "code",
      "metadata": {
        "id": "7N5bVARnLCgW",
        "colab": {
          "base_uri": "https://localhost:8080/"
        },
        "outputId": "3b4efb33-64a1-484a-f2ee-e4c164503318"
      },
      "source": [
        "a = Alice_Encoding(16)\r\n",
        "a.alice_bits_basis_generation()\r\n",
        "print(a.a_basis)"
      ],
      "execution_count": 8,
      "outputs": [
        {
          "output_type": "stream",
          "text": [
            "['f' 'e' 'e' 'f' 'f' 'e' 'e' 'e' 'e' 'e' 'e' 'e' 'e' 'f' 'e' 'e']\n"
          ],
          "name": "stdout"
        }
      ]
    },
    {
      "cell_type": "code",
      "metadata": {
        "id": "p_a8TZvBlM2m"
      },
      "source": [
        "class Bob_Encoding(Alice_Encoding):\r\n",
        "  def __init__(self, bits):\r\n",
        "    self.bits = bits\r\n",
        "    self.received_photons = None\r\n",
        "    self.bob_measured_photons = None\r\n",
        "    self.b_decoded_photons = None\r\n",
        "    #self.a_bits = None\r\n",
        "    self.b_basis = None\r\n",
        "    self.a_matched_photons = None\r\n",
        "    #self.a_encoded_polarized_photons = None\r\n",
        "\r\n",
        "  def bob_basis_generation(self):\r\n",
        "    #y = random.choice(['e', 'f'], size=(1, self.bits))\r\n",
        "    #self.b_basis = y[0]\r\n",
        "    self.b_basis = a.a_basis\r\n",
        "    return self.b_basis\r\n",
        "\r\n",
        "  \"\"\"\r\n",
        "  def get_photons(self):\r\n",
        "    self.received_photons = []\r\n",
        "    for bit in range(len(self.b_basis)):\r\n",
        "      if a.a_encoded_polarized_photons[bit] == [1.+0.j, 0.+0.j]:\r\n",
        "        self.received_photons.append('e1')\r\n",
        "        bit+=1\r\n",
        "\r\n",
        "      elif a.a_encoded_polarized_photons[bit] == [-0.44807362+0.j,  0.89399666+0.j]:\r\n",
        "        self.received_photons.append('e2')\r\n",
        "        bit+=1\r\n",
        "\r\n",
        "      elif a.a_encoded_polarized_photons[bit] == [0.52532199+0.j, 0.85090352+0.j]:\r\n",
        "        self.received_photons.append('f1')\r\n",
        "        bit+=1\r\n",
        "      \r\n",
        "      elif a.a_encoded_polarized_photons[bit] == [ 0.52532199+0.j, -0.50923178-0.6817036j]:\r\n",
        "        self.received_photons.append('f2')\r\n",
        "        bit+=1\r\n",
        "\r\n",
        "    return self.received_photons\r\n",
        "    \"\"\"\r\n",
        "\r\n",
        "  def bob_measure_photons(self):\r\n",
        "    a.alice_prepare_photons()\r\n",
        "    self.bob_measured_photons = []\r\n",
        "    for bit in range(len(self.b_basis)):\r\n",
        "      if a.a_encoded_photons[bit] == 'e1':\r\n",
        "        self.bob_measured_photons.append(0)\r\n",
        "        bit+=1\r\n",
        "      elif a.a_encoded_photons[bit] == 'e2':\r\n",
        "        self.bob_measured_photons.append(1)\r\n",
        "        bit+=1\r\n",
        "      elif a.a_encoded_photons[bit] == 'f1':\r\n",
        "        self.bob_measured_photons.append(0)\r\n",
        "        bit+=1\r\n",
        "      elif a.a_encoded_photons[bit] == 'f2':\r\n",
        "        self.bob_measured_photons.append(1)\r\n",
        "        bit+=1\r\n",
        "    return self.bob_measured_photons\r\n",
        "\r\n",
        "  def bob_prepare_photons(self):\r\n",
        "    self.b_decoded_photons = []\r\n",
        "    self.bob_basis_generation()\r\n",
        "    for bit in range(len(self.b_basis)):\r\n",
        "      if self.bob_measured_photons[bit] == 0:\r\n",
        "       if self.b_basis[bit] == 'e':\r\n",
        "        self.b_decoded_photons.append('e1')\r\n",
        "        bit+=1\r\n",
        "       else:\r\n",
        "         self.b_decoded_photons.append('f1')\r\n",
        "         bit+=1\r\n",
        "\r\n",
        "      elif self.bob_measured_photons[bit] == 1:\r\n",
        "        if self.b_basis[bit] == 'e':\r\n",
        "         self.b_decoded_photons.append('e2')\r\n",
        "         bit+=1\r\n",
        "        else:\r\n",
        "          self.b_decoded_photons.append('f2')\r\n",
        "          bit+=1\r\n",
        "    return self.b_decoded_photons\r\n"
      ],
      "execution_count": 9,
      "outputs": []
    },
    {
      "cell_type": "code",
      "metadata": {
        "colab": {
          "base_uri": "https://localhost:8080/"
        },
        "id": "_XTNpGuNcyMR",
        "outputId": "4ad91879-9283-4eee-c1fb-da0a3b588f33"
      },
      "source": [
        "b = Bob_Encoding(16)\r\n",
        "b.bob_basis_generation()"
      ],
      "execution_count": 10,
      "outputs": [
        {
          "output_type": "execute_result",
          "data": {
            "text/plain": [
              "array(['f', 'e', 'e', 'f', 'f', 'e', 'e', 'e', 'e', 'e', 'e', 'e', 'e',\n",
              "       'f', 'e', 'e'], dtype='<U1')"
            ]
          },
          "metadata": {
            "tags": []
          },
          "execution_count": 10
        }
      ]
    },
    {
      "cell_type": "code",
      "metadata": {
        "colab": {
          "base_uri": "https://localhost:8080/"
        },
        "id": "XyWz4_-ydD3K",
        "outputId": "6838badc-2a52-4072-c2b3-09850521d409"
      },
      "source": [
        "b.bob_measure_photons()\r\n",
        "print(a.a_encoded_photons)\r\n"
      ],
      "execution_count": 11,
      "outputs": [
        {
          "output_type": "stream",
          "text": [
            "['f2', 'e2', 'f2', 'f2', 'e1', 'f2', 'e2', 'f1', 'f2', 'f1', 'f1', 'f1', 'f1', 'f2', 'f1', 'e1']\n"
          ],
          "name": "stdout"
        }
      ]
    },
    {
      "cell_type": "code",
      "metadata": {
        "id": "st6XrGPTdM05",
        "colab": {
          "base_uri": "https://localhost:8080/"
        },
        "outputId": "054def56-787f-4564-e93f-faa1114aabe4"
      },
      "source": [
        "print(b.bob_measured_photons)"
      ],
      "execution_count": 12,
      "outputs": [
        {
          "output_type": "stream",
          "text": [
            "[1, 1, 1, 1, 0, 1, 1, 0, 1, 0, 0, 0, 0, 1, 0, 0]\n"
          ],
          "name": "stdout"
        }
      ]
    },
    {
      "cell_type": "code",
      "metadata": {
        "id": "s1YupKo1dOsb",
        "colab": {
          "base_uri": "https://localhost:8080/"
        },
        "outputId": "9dadfdda-175f-4611-ddfb-95633d76dc06"
      },
      "source": [
        "b.bob_prepare_photons()\r\n",
        "print(b.b_decoded_photons)"
      ],
      "execution_count": 13,
      "outputs": [
        {
          "output_type": "stream",
          "text": [
            "['f2', 'e2', 'f2', 'f2', 'e1', 'f2', 'e2', 'f1', 'f2', 'f1', 'f1', 'f1', 'f1', 'f2', 'f1', 'e1']\n"
          ],
          "name": "stdout"
        }
      ]
    },
    {
      "cell_type": "code",
      "metadata": {
        "id": "tIhM8f9JrQi9"
      },
      "source": [
        "class Key_Generation:\r\n",
        "  def __init__(self):\r\n",
        "    self.bits = a.a_bits\r\n",
        "    self.matched_position = None\r\n",
        "    self.key = None\r\n",
        "\r\n",
        "  def position_comparing(self):\r\n",
        "    self.matched_position = []\r\n",
        "    for bit in range(len(self.bits)):\r\n",
        "      if a.a_encoded_photons[bit] == b.b_decoded_photons[bit]:\r\n",
        "        self.matched_position.append(bit)\r\n",
        "        bit+=1\r\n",
        "      else:\r\n",
        "        bit+=1\r\n",
        "    return self.matched_position\r\n",
        "\r\n",
        "  def key_founded(self):\r\n",
        "    self.key = []\r\n",
        "    for position in range(len(self.matched_position)):\r\n",
        "      self.key.append(a.a_encoded_photons[self.matched_position[position]])\r\n",
        "    return self.key\r\n"
      ],
      "execution_count": 14,
      "outputs": []
    },
    {
      "cell_type": "markdown",
      "metadata": {
        "id": "62VS5AW_sC38"
      },
      "source": [
        ""
      ]
    },
    {
      "cell_type": "code",
      "metadata": {
        "id": "9K9agZk0cwZx",
        "colab": {
          "base_uri": "https://localhost:8080/"
        },
        "outputId": "76912f6e-8867-49a4-ccc9-b0f2c033249e"
      },
      "source": [
        "k = Key_Generation()\r\n",
        "k.position_comparing()"
      ],
      "execution_count": 15,
      "outputs": [
        {
          "output_type": "execute_result",
          "data": {
            "text/plain": [
              "[0, 1, 2, 3, 4, 5, 6, 7, 8, 9, 10, 11, 12, 13, 14, 15]"
            ]
          },
          "metadata": {
            "tags": []
          },
          "execution_count": 15
        }
      ]
    },
    {
      "cell_type": "code",
      "metadata": {
        "colab": {
          "base_uri": "https://localhost:8080/"
        },
        "id": "okOGygV3tAay",
        "outputId": "25db160c-be47-4d45-a0df-af8c3dadfe2e"
      },
      "source": [
        "k.key_founded()"
      ],
      "execution_count": 16,
      "outputs": [
        {
          "output_type": "execute_result",
          "data": {
            "text/plain": [
              "['f2',\n",
              " 'e2',\n",
              " 'f2',\n",
              " 'f2',\n",
              " 'e1',\n",
              " 'f2',\n",
              " 'e2',\n",
              " 'f1',\n",
              " 'f2',\n",
              " 'f1',\n",
              " 'f1',\n",
              " 'f1',\n",
              " 'f1',\n",
              " 'f2',\n",
              " 'f1',\n",
              " 'e1']"
            ]
          },
          "metadata": {
            "tags": []
          },
          "execution_count": 16
        }
      ]
    },
    {
      "cell_type": "code",
      "metadata": {
        "id": "Wt5O6QfTQF_3"
      },
      "source": [
        ""
      ],
      "execution_count": 16,
      "outputs": []
    }
  ]
}