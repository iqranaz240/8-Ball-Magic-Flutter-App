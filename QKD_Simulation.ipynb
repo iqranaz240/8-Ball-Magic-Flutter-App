{
  "nbformat": 4,
  "nbformat_minor": 0,
  "metadata": {
    "colab": {
      "name": "QKD_Simulation.ipynb",
      "provenance": [],
      "collapsed_sections": [],
      "include_colab_link": true
    },
    "kernelspec": {
      "name": "python3",
      "display_name": "Python 3"
    }
  },
  "cells": [
    {
      "cell_type": "markdown",
      "metadata": {
        "id": "view-in-github",
        "colab_type": "text"
      },
      "source": [
        "<a href=\"https://colab.research.google.com/github/iqranaz240/8-Ball-Magic-Flutter-App/blob/master/QKD_Simulation.ipynb\" target=\"_parent\"><img src=\"https://colab.research.google.com/assets/colab-badge.svg\" alt=\"Open In Colab\"/></a>"
      ]
    },
    {
      "cell_type": "code",
      "metadata": {
        "id": "YxV2E2rXzcVs"
      },
      "source": [
        "import math\r\n",
        "from math import e\r\n",
        "import numpy as np\r\n",
        "import matplotlib.pyplot as plt\r\n",
        "from numpy import random"
      ],
      "execution_count": 1,
      "outputs": []
    },
    {
      "cell_type": "code",
      "metadata": {
        "colab": {
          "base_uri": "https://localhost:8080/",
          "height": 265
        },
        "id": "V6cfNFvfziLM",
        "outputId": "44d11348-de20-4447-c34e-f5c935d837af"
      },
      "source": [
        "s = np.random.poisson(0.1, 100)\r\n",
        "count, bins, ignored = plt.hist(s, 10, density=True)\r\n",
        "plt.show()"
      ],
      "execution_count": 2,
      "outputs": [
        {
          "output_type": "display_data",
          "data": {
            "image/png": "[encoded data removed]",
            "text/plain": [
              "<Figure size 432x288 with 1 Axes>"
            ]
          },
          "metadata": {
            "tags": [],
            "needs_background": "light"
          }
        }
      ]
    },
    {
      "cell_type": "code",
      "metadata": {
        "colab": {
          "base_uri": "https://localhost:8080/"
        },
        "id": "R8bcbzzHzujT",
        "outputId": "5bdad4d7-8b03-4044-9312-88554fdc9e12"
      },
      "source": [
        "print(s)"
      ],
      "execution_count": 3,
      "outputs": [
        {
          "output_type": "stream",
          "text": [
            "[0 0 0 0 0 0 0 1 0 0 0 0 0 0 0 0 1 0 0 0 0 2 0 0 1 0 0 0 0 0 0 0 0 0 0 0 0\n",
            " 0 0 0 0 0 0 2 0 0 0 1 0 0 0 0 0 0 0 0 0 0 0 0 0 0 0 0 0 0 0 0 0 0 0 0 0 0\n",
            " 0 0 0 0 0 0 0 0 0 0 0 0 0 0 0 0 0 0 0 0 0 0 0 0 0 1]\n"
          ],
          "name": "stdout"
        }
      ]
    },
    {
      "cell_type": "code",
      "metadata": {
        "id": "AxRkyprRzwwj"
      },
      "source": [
        "class Photon:\r\n",
        "\r\n",
        "  def __init__(self, polarization, intensity, energy, frequency):\r\n",
        "    self.intensity = intensity\r\n",
        "    self.energy = energy\r\n",
        "    self.frequency = frequency\r\n",
        "        \r\n",
        "  def polarization(self, theta, phi):\r\n",
        "    self.theta = theta\r\n",
        "    self.phi = phi\r\n",
        "    polarize_photon = np.array([math.cos(theta/2), (e**((0+1j)*phi))*math.sin(theta/2)])\r\n",
        "    return polarize_photon\r\n",
        "\r\n",
        "  def generate_photon(self, iterations):\r\n",
        "    for iteration in range(iterations):\r\n",
        "      if (s[iteration] == 2):\r\n",
        "        return self.polarization(0,0)  #call photon constructor twice\r\n",
        "        iteration+=1\r\n",
        "      elif (s[iteration] == 1):\r\n",
        "        return self.polarization(0,0)  #call photon construstor\r\n",
        "        iteration+=1\r\n",
        "    else:\r\n",
        "        iteration+=1"
      ],
      "execution_count": 16,
      "outputs": []
    },
    {
      "cell_type": "code",
      "metadata": {
        "id": "yuZZFRJ2z0YT",
        "colab": {
          "base_uri": "https://localhost:8080/"
        },
        "outputId": "750831e1-72eb-447b-c366-a439409a88a0"
      },
      "source": [
        "p = Photon(1,2,3,4)\r\n",
        "p.generate_photon(100)\r\n",
        "\r\n",
        "        "
      ],
      "execution_count": 17,
      "outputs": [
        {
          "output_type": "execute_result",
          "data": {
            "text/plain": [
              "array([1.+0.j, 0.+0.j])"
            ]
          },
          "metadata": {
            "tags": []
          },
          "execution_count": 17
        }
      ]
    },
    {
      "cell_type": "code",
      "metadata": {
        "id": "BAKqHkxV0-_M"
      },
      "source": [
        "class Optical_Fibre:\r\n",
        "  def __init__(self, attenuation_costant, length_of_fiber, Photon ):\r\n",
        "    self.length_of_fiber = length_of_fiber\r\n",
        "    self.attenuation_costant = attenuation_costant\r\n",
        "    self.dispersion_coefficient = dispersion_coefficient\r\n",
        "    self.spectral_width = spectral_width\r\n",
        "\r\n",
        "    def attenuation(self):\r\n",
        "        attenuation_of_fiber = attenuation_costant*length_of_fiber\r\n",
        "        return attenuation_of_fiber\r\n",
        "\r\n",
        "    def transfer_efficiency(self):\r\n",
        "        x = (attenuation_costant*length_of_fiber)/10\r\n",
        "        exponent = -(x)\r\n",
        "        efficiency = np.power(10, exponent)\r\n",
        "        return efficiency\r\n",
        "\r\n",
        "    def intramodal_dispersion(self):\r\n",
        "         chromatic_dispersion = dispersion_coefficient*length_of_fiber*spectral_width\r\n",
        "         return chromatic_dispersion\r\n"
      ],
      "execution_count": null,
      "outputs": []
    },
    {
      "cell_type": "code",
      "metadata": {
        "id": "a7VQy8kp9wf_"
      },
      "source": [
        "class Alice_Encoding(Photon):\r\n",
        "  def __init__(self, bits):\r\n",
        "    self.bits = bits\r\n",
        "    self.a_bits = None\r\n",
        "    self.a_basis = None\r\n",
        "    self.a_encoded_photons = None\r\n",
        "    self.a_encoded_polarized_photons = None\r\n",
        "\r\n",
        "  def alice_bits_basis_generation(self):\r\n",
        "    x = random.choice([0, 1], size=(1, self.bits))\r\n",
        "    self.a_bits = x[0]\r\n",
        "    y = random.choice(['e', 'f'], size=(1, self.bits))\r\n",
        "    self.a_basis = y[0]\r\n",
        "    return self.a_bits, self.a_basis\r\n",
        "\r\n",
        "  def alice_photons(self):\r\n",
        "    self.a_encoded_photons = []\r\n",
        "    self.alice_bits_basis_generation()\r\n",
        "    for bit in range(len(self.a_bits)):\r\n",
        "      if self.a_bits[bit] == 0:\r\n",
        "       if self.a_basis[bit] == 'e':\r\n",
        "        self.a_encoded_photons.append('e1')\r\n",
        "        #print('e1')\r\n",
        "        bit+=1\r\n",
        "       else:\r\n",
        "         self.a_encoded_photons.append('f1')\r\n",
        "        #print('f1')\r\n",
        "         bit+=1\r\n",
        "\r\n",
        "      elif self.a_bits[bit] == 1:\r\n",
        "        if self.a_basis[bit] == 'e':\r\n",
        "         self.a_encoded_photons.append('e2')\r\n",
        "         #print('e2')\r\n",
        "         bit+=1\r\n",
        "        else:\r\n",
        "          self.a_encoded_photons.append('f2')\r\n",
        "          #print('f2')\r\n",
        "          bit+=1\r\n",
        "    return self.a_encoded_photons\r\n",
        "\r\n",
        "  def alice_encoded_photons(self):\r\n",
        "    self.a_encoded_polarized_photons = []\r\n",
        "    for bit in range(len(self.a_bits)):\r\n",
        "      if self.a_encoded_photons[bit] == 'e1':\r\n",
        "        pol = self.polarization(0,0)\r\n",
        "        self.a_encoded_polarized_photons.append(pol)\r\n",
        "        bit+=1\r\n",
        "\r\n",
        "      elif self.a_encoded_photons[bit] == 'e2':\r\n",
        "        pol = self.polarization(180,0)\r\n",
        "        self.a_encoded_polarized_photons.append(pol)\r\n",
        "        bit+=1\r\n",
        "\r\n",
        "      elif self.a_encoded_photons[bit] == 'f1':\r\n",
        "        pol = self.polarization(90,0)\r\n",
        "        self.a_encoded_polarized_photons.append(pol)\r\n",
        "        bit+=1    \r\n",
        "\r\n",
        "      elif self.a_encoded_photons[bit] == 'f2':\r\n",
        "        pol = self.polarization(90,180)\r\n",
        "        self.a_encoded_polarized_photons.append(pol)\r\n",
        "        bit+=1\r\n",
        "    \r\n",
        "    return self.a_encoded_polarized_photons\r\n"
      ],
      "execution_count": 107,
      "outputs": []
    },
    {
      "cell_type": "code",
      "metadata": {
        "colab": {
          "base_uri": "https://localhost:8080/"
        },
        "id": "7N5bVARnLCgW",
        "outputId": "78737bba-3050-46c3-e539-70a94869db80"
      },
      "source": [
        "a = Alice_Encoding(16)\r\n",
        "a.alice_bits_basis_generation()"
      ],
      "execution_count": 108,
      "outputs": [
        {
          "output_type": "execute_result",
          "data": {
            "text/plain": [
              "(array([0, 1, 1, 0, 0, 1, 1, 0, 0, 1, 0, 0, 0, 0, 0, 0]),\n",
              " array(['e', 'e', 'e', 'e', 'f', 'f', 'f', 'e', 'f', 'e', 'f', 'e', 'e',\n",
              "        'f', 'f', 'e'], dtype='<U1'))"
            ]
          },
          "metadata": {
            "tags": []
          },
          "execution_count": 108
        }
      ]
    },
    {
      "cell_type": "code",
      "metadata": {
        "colab": {
          "base_uri": "https://localhost:8080/"
        },
        "id": "xLHcdMqxfyuz",
        "outputId": "71b455f0-48ad-46a6-e824-3566ea2c8ded"
      },
      "source": [
        "a.alice_photons()"
      ],
      "execution_count": 109,
      "outputs": [
        {
          "output_type": "execute_result",
          "data": {
            "text/plain": [
              "['f2',\n",
              " 'e2',\n",
              " 'e1',\n",
              " 'e2',\n",
              " 'e1',\n",
              " 'f1',\n",
              " 'f1',\n",
              " 'e2',\n",
              " 'f1',\n",
              " 'f1',\n",
              " 'e1',\n",
              " 'f1',\n",
              " 'e2',\n",
              " 'e1',\n",
              " 'e1',\n",
              " 'f1']"
            ]
          },
          "metadata": {
            "tags": []
          },
          "execution_count": 109
        }
      ]
    },
    {
      "cell_type": "code",
      "metadata": {
        "colab": {
          "base_uri": "https://localhost:8080/"
        },
        "id": "RZ98suh-fPDz",
        "outputId": "f09e62be-967f-42f5-9661-659014e9377a"
      },
      "source": [
        "a.alice_encoded_photons()"
      ],
      "execution_count": 110,
      "outputs": [
        {
          "output_type": "execute_result",
          "data": {
            "text/plain": [
              "[array([ 0.52532199+0.j       , -0.50923178-0.6817036j]),\n",
              " array([-0.44807362+0.j,  0.89399666+0.j]),\n",
              " array([1.+0.j, 0.+0.j]),\n",
              " array([-0.44807362+0.j,  0.89399666+0.j]),\n",
              " array([1.+0.j, 0.+0.j]),\n",
              " array([0.52532199+0.j, 0.85090352+0.j]),\n",
              " array([0.52532199+0.j, 0.85090352+0.j]),\n",
              " array([-0.44807362+0.j,  0.89399666+0.j]),\n",
              " array([0.52532199+0.j, 0.85090352+0.j]),\n",
              " array([0.52532199+0.j, 0.85090352+0.j]),\n",
              " array([1.+0.j, 0.+0.j]),\n",
              " array([0.52532199+0.j, 0.85090352+0.j]),\n",
              " array([-0.44807362+0.j,  0.89399666+0.j]),\n",
              " array([1.+0.j, 0.+0.j]),\n",
              " array([1.+0.j, 0.+0.j]),\n",
              " array([0.52532199+0.j, 0.85090352+0.j])]"
            ]
          },
          "metadata": {
            "tags": []
          },
          "execution_count": 110
        }
      ]
    },
    {
      "cell_type": "code",
      "metadata": {
        "colab": {
          "base_uri": "https://localhost:8080/"
        },
        "id": "p_a8TZvBlM2m",
        "outputId": "9e6c6aeb-4783-4036-a48f-b73891232016"
      },
      "source": [
        "class Bob_Encoding:\r\n",
        "  \r\n",
        "  def b_encoding():\r\n",
        "\r\n",
        "    a = random.choice([0, 1], size=(1, 16))\r\n",
        "    b_bits = a[0]\r\n",
        "\r\n",
        "    b = random.choice(['e', 'f'], size=(1, 16))\r\n",
        "    b_basis = b[0]\r\n",
        "\r\n",
        "    #print(b_bits)\r\n",
        "    #print(len(b_bits))\r\n",
        "    #print(b_basis)\r\n",
        "    #print(len(b_basis))\r\n",
        "\r\n",
        "    b_encoded_photons = []\r\n",
        "\r\n",
        "    for i in range(len(b_bits)):\r\n",
        "      if b_bits[i] == 0:\r\n",
        "        if b_basis[i] == 'e':\r\n",
        "          b_encoded_photons.append('e1')\r\n",
        "          #print('e1')\r\n",
        "          i+=1\r\n",
        "        else:\r\n",
        "          b_encoded_photons.append('f1')\r\n",
        "          #print('f1')\r\n",
        "          i+=1\r\n",
        "\r\n",
        "      elif b_bits[i] == 1:\r\n",
        "        if b_basis[i] == 'e':\r\n",
        "          b_encoded_photons.append('e2')\r\n",
        "          #print('e2')\r\n",
        "          i+=1\r\n",
        "        else:\r\n",
        "          b_encoded_photons.append('f2')\r\n",
        "          #print('f2')\r\n",
        "          i+=1\r\n",
        "\r\n",
        "      else:\r\n",
        "        print('ivalid')\r\n",
        "\r\n",
        "    p=Photon(1,2,3,4)\r\n",
        "    b_encoded_polarized_photons = []\r\n",
        "    for i in range(len(b_bits)):\r\n",
        "      if b_encoded_photons[i] == 'e1':\r\n",
        "        pol = p.polarization(0,0)\r\n",
        "        b_encoded_polarized_photons.append(pol)\r\n",
        "        i+=1\r\n",
        "\r\n",
        "      elif b_encoded_photons[i] == 'e2':\r\n",
        "        pol = p.polarization(180,0)\r\n",
        "        b_encoded_polarized_photons.append(pol)\r\n",
        "        i+=1\r\n",
        "\r\n",
        "      elif b_encoded_photons[i] == 'f1':\r\n",
        "        pol = p.polarization(90,0)\r\n",
        "        b_encoded_polarized_photons.append(pol)\r\n",
        "        i+=1    \r\n",
        "\r\n",
        "      elif b_encoded_photons[i] == 'f2':\r\n",
        "        pol = p.polarization(90,180)\r\n",
        "        b_encoded_polarized_photons.append(pol)\r\n",
        "        i+=1\r\n",
        "\r\n",
        "      else:\r\n",
        "        b_encoded_polarized_photons.append('invalid')\r\n",
        "        i+=1\r\n",
        "\r\n",
        "    return b_encoded_photons\r\n",
        "    #return len(b_encoded_polarized_photons)\r\n",
        "\r\n",
        "  b = b_encoding()\r\n",
        "  print(b)\r\n",
        "  \r\n"
      ],
      "execution_count": null,
      "outputs": [
        {
          "output_type": "stream",
          "text": [
            "['f1', 'f2', 'f1', 'f1', 'e2', 'f2', 'e1', 'f2', 'e1', 'e2', 'f1', 'f1', 'e2', 'f1', 'e2', 'e1']\n"
          ],
          "name": "stdout"
        }
      ]
    },
    {
      "cell_type": "code",
      "metadata": {
        "colab": {
          "base_uri": "https://localhost:8080/",
          "height": 35
        },
        "id": "b9D5Y4m2lRlm",
        "outputId": "d6275f90-a5c4-4547-e479-1636be3236e2"
      },
      "source": [
        "'''\r\n",
        "a = Alice_Encoding\r\n",
        "b = Bob_Encoding\r\n",
        "\r\n",
        "alice = a.a_encoding()\r\n",
        "print(alice)\r\n",
        "\r\n",
        "bob = b.b_encoding()\r\n",
        "print(bob)\r\n",
        "'''"
      ],
      "execution_count": null,
      "outputs": [
        {
          "output_type": "execute_result",
          "data": {
            "application/vnd.google.colaboratory.intrinsic+json": {
              "type": "string"
            },
            "text/plain": [
              "'\\na = Alice_Encoding\\nb = Bob_Encoding\\n\\nalice = a.a_encoding()\\nprint(alice)\\n\\nbob = b.b_encoding()\\nprint(bob)\\n'"
            ]
          },
          "metadata": {
            "tags": []
          },
          "execution_count": 13
        }
      ]
    },
    {
      "cell_type": "code",
      "metadata": {
        "colab": {
          "base_uri": "https://localhost:8080/"
        },
        "id": "tIhM8f9JrQi9",
        "outputId": "eb78adb8-a2c2-4e93-ae97-e79c1834ecf5"
      },
      "source": [
        "class Key_Generation:\r\n",
        "  # a = Alice_Encoding\r\n",
        "  # b = Bob_Encoding\r\n",
        "\r\n",
        "  # alice = a.a_encoding()\r\n",
        "  # print(alice)\r\n",
        "\r\n",
        "  # bob = b.b_encoding()\r\n",
        "  # print(bob)\r\n",
        "\r\n",
        "  def key():\r\n",
        "    a = Alice_Encoding\r\n",
        "    b = Bob_Encoding\r\n",
        "\r\n",
        "    alice = a.a_encoding()\r\n",
        "    print(alice)\r\n",
        "\r\n",
        "    bob = b.b_encoding()\r\n",
        "    print(bob)\r\n",
        "    encoded_key = []\r\n",
        "    for array in range(len(alice)):\r\n",
        "      if (alice[array] == bob[array]):\r\n",
        "        #print(alice[array])\r\n",
        "        #print(bob[array])\r\n",
        "        encoded_key.append(bob[array])\r\n",
        "\r\n",
        "        \r\n",
        "        array+=1\r\n",
        "      else:\r\n",
        "        array+=1\r\n",
        "    print(encoded_key)\r\n",
        "    return encoded_key\r\n",
        "\r\n",
        "  key()\r\n",
        "\r\n"
      ],
      "execution_count": null,
      "outputs": [
        {
          "output_type": "stream",
          "text": [
            "['f2', 'e2', 'f2', 'e2', 'f2', 'f1', 'f2', 'f2', 'e2', 'f1', 'e1', 'e1', 'f1', 'e1', 'f1', 'e1']\n",
            "['f2', 'f1', 'e1', 'f1', 'f1', 'e1', 'e1', 'f1', 'e2', 'e1', 'e2', 'e2', 'e1', 'f1', 'f1', 'f2']\n",
            "['f2', 'e2', 'f1']\n"
          ],
          "name": "stdout"
        }
      ]
    },
    {
      "cell_type": "code",
      "metadata": {
        "id": "54tX6dVZefug"
      },
      "source": [
        "# class Photon_Detector:\r\n",
        "#   def __init__(self, photon_source_frequency, detector_efficiency, dark_count_rate):\r\n",
        "#     self.photon_source_frequency = photon_source_frequency\r\n",
        "#     self.detector_efficiency = detector_efficiency\r\n",
        "#     self.dark_count_rate = dark_count_rate\r\n",
        "\r\n",
        "#   np.exp(-34)\r\n",
        "#   planks_constant ="
      ],
      "execution_count": null,
      "outputs": []
    },
    {
      "cell_type": "code",
      "metadata": {
        "id": "Wt5O6QfTQF_3"
      },
      "source": [
        ""
      ],
      "execution_count": null,
      "outputs": []
    }
  ]
}